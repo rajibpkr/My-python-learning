{
 "cells": [
  {
   "cell_type": "code",
   "execution_count": 25,
   "id": "3545755e",
   "metadata": {},
   "outputs": [
    {
     "name": "stdout",
     "output_type": "stream",
     "text": [
      "Enter your Nepali marks: 84\n",
      "Enter your English marks: 82\n",
      "Enter your Math marks: 83\n",
      "you pass nepali in A+ Your GPA is 3.6\n",
      "you pass English in A+ Your GPA is 3.6\n",
      "you pass Math in A+ Your GPA is 3.6\n",
      "you pass the exam with total average marks:  124.5\n"
     ]
    }
   ],
   "source": [
    "nepali = int(input(\"Enter your Nepali marks: \"))\n",
    "english = int(input(\"Enter your English marks: \"))\n",
    "math = int(input(\"Enter your Math marks: \"))\n",
    "total_marks = (int(nepali) + int(english) + int(math))/2\n",
    "#================================================================\n",
    "\n",
    "#nepali\n",
    "if nepali >= 90:\n",
    "    \n",
    "    print(\"you pass nepali in A+\", \"Your GPA is 4\")\n",
    "    \n",
    "elif nepali >= 80:\n",
    "    \n",
    "    print(\"you pass nepali in A+\", \"Your GPA is 3.6\")\n",
    "    \n",
    "elif nepali >= 40:\n",
    "    print(\"You've passed in Nepali\")\n",
    "    \n",
    "else:\n",
    "    print(\"you fail nepali\")\n",
    "    \n",
    "\n",
    "#english =====================================================         \n",
    "if english >= 90:\n",
    "    \n",
    "    print(\"you pass English in A+\", \"Your GPA is 4\")\n",
    "    \n",
    "elif english >= 80:\n",
    "    \n",
    "    print(\"you pass English in A+\", \"Your GPA is 3.6\")\n",
    "    \n",
    "elif english >= 40:\n",
    "    print(\"You have passed in English\")\n",
    "          \n",
    "else:\n",
    "    print(\"You fail english\")\n",
    "    \n",
    "\n",
    "#math ==========================================================\n",
    "if math >= 90:\n",
    "    \n",
    "    print(\"you pass Math in A+\", \"Your GPA is 4\")\n",
    "    \n",
    "elif math >= 80:\n",
    "    \n",
    "    print(\"you pass Math in A+\", \"Your GPA is 3.6\")\n",
    "    \n",
    "elif math >= 40:\n",
    "    print(\"You have passed in math\")\n",
    "          \n",
    "        \n",
    "else:\n",
    "    print(\"You fail in math\")\n",
    "    \n",
    "#========================================    \n",
    "if total_marks >= 40 and nepali >= 40 and english >= 40 and math >= 40:\n",
    "    \n",
    "        print(\"you pass the exam with total average marks: \", total_marks)\n",
    "    \n",
    "else:\n",
    "    print(\"You fail the whole exam, and your average marks is: \", total_marks)\n",
    "    \n",
    "    \n"
   ]
  },
  {
   "cell_type": "code",
   "execution_count": null,
   "id": "b2142913",
   "metadata": {},
   "outputs": [],
   "source": []
  }
 ],
 "metadata": {
  "kernelspec": {
   "display_name": "Python 3 (ipykernel)",
   "language": "python",
   "name": "python3"
  },
  "language_info": {
   "codemirror_mode": {
    "name": "ipython",
    "version": 3
   },
   "file_extension": ".py",
   "mimetype": "text/x-python",
   "name": "python",
   "nbconvert_exporter": "python",
   "pygments_lexer": "ipython3",
   "version": "3.9.7"
  }
 },
 "nbformat": 4,
 "nbformat_minor": 5
}
